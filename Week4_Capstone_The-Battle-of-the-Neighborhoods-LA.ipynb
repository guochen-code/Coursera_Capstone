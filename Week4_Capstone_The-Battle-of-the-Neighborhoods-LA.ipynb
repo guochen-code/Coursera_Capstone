{
 "cells": [
  {
   "cell_type": "markdown",
   "metadata": {},
   "source": [
    "# Capstone Project - The Battle of the Neighborhoods - Los Angeles\n"
   ]
  },
  {
   "cell_type": "markdown",
   "metadata": {},
   "source": [
    "## Table of contents\n",
    "* [Introduction: Business Problem](#introduction)\n",
    "* [Data](#data)\n",
    "* [Methodology](#methodology)\n",
    "* [Analysis](#analysis)\n",
    "* [Results and Discussion](#results)\n",
    "* [Conclusion](#conclusion)"
   ]
  },
  {
   "cell_type": "markdown",
   "metadata": {},
   "source": [
    "\n",
    "\n",
    "## Introduction: Business Problem <a name=\"introduction\"></a>"
   ]
  },
  {
   "cell_type": "markdown",
   "metadata": {},
   "source": [
    "This is a capstone project for **IBM Data Science Professional Certificate**. In this project we will try to find an optimal neighborhood for a restaurant in the city of Los Angeles, United States. Specifically, this report will be targeted to stakeholders interested in opening an restaurant in Los Angeles.\n",
    "\n",
    "Since there are lots of neighborhoods in Los Angeles we will try to detect **neighborhood candidates that are not already crowded with restaurants and have favorable charateristics to support new restaurants**. We are also particularly interested in **neighborhoods with larger population base and higher household income**. We would also prefer locations **with lower business cost and crime rate**.\n",
    "\n",
    "We will use our data science powers to generate a few most promissing neighborhoods based on this criteria. Advantages of each area will then be clearly expressed so that best possible final neighborhood can be chosen by stakeholders."
   ]
  },
  {
   "cell_type": "markdown",
   "metadata": {},
   "source": [
    "## Data <a name=\"data\"></a>"
   ]
  },
  {
   "cell_type": "markdown",
   "metadata": {},
   "source": [
    "Based on definition of our problem, factors that will influence our decission are:\n",
    "* Frequency of existing restaurants and environment of the neighborhood\n",
    "* Population base and household income in the neighborhood\n",
    "* Business cost and crime rate in the neighborhood\n",
    "\n",
    "Following data sources will be needed to extract/generate the required information:\n",
    "* Most common venues and characteristics of every neighborhood will be obtained using **Foursquare API**\n",
    "* Coordinate of each neighborhood will be obtained using **'LA_Neighborhoods.csv'** downloaded from Neighborhood Data for Social Change (NDSC) platform\n",
    "* Populaiton base, median householder income, rent cost and crime rate of each neighborhood will be obtained using **'Total_Population__LA_.csv', 'Median_Household_Income__LA_.csv', 'Rent_Price__LA_.csv', and 'Part_I_Crimes__LA_.csv'** also downloaded from Neighborhood Data for Social Change (NDSC) platform"
   ]
  },
  {
   "cell_type": "code",
   "execution_count": null,
   "metadata": {},
   "outputs": [],
   "source": []
  }
 ],
 "metadata": {
  "kernelspec": {
   "display_name": "Python 3",
   "language": "python",
   "name": "python3"
  },
  "language_info": {
   "codemirror_mode": {
    "name": "ipython",
    "version": 3
   },
   "file_extension": ".py",
   "mimetype": "text/x-python",
   "name": "python",
   "nbconvert_exporter": "python",
   "pygments_lexer": "ipython3",
   "version": "3.7.6"
  }
 },
 "nbformat": 4,
 "nbformat_minor": 4
}
